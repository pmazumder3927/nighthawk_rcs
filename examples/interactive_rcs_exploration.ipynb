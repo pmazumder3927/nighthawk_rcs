{
  "cells": [
    {
      "cell_type": "markdown",
      "metadata": {
        "vscode": {
          "languageId": "raw"
        }
      },
      "source": [
        "# Interactive RCS Topology Optimization\n",
        "\n",
        "This notebook provides an interactive environment for exploring RCS optimization inspired by stealth aircraft design.\n"
      ]
    },
    {
      "cell_type": "code",
      "execution_count": 1,
      "metadata": {},
      "outputs": [],
      "source": [
        "# Setup and imports\n",
        "import numpy as np\n",
        "import matplotlib.pyplot as plt\n",
        "from ipywidgets import interact, FloatSlider, IntSlider\n",
        "import sys\n",
        "sys.path.append('..')\n",
        "\n",
        "from src.geometry import Geometry2D, create_f117_inspired_2d_profile\n",
        "from src.rcs_calc import RCSCalculator\n",
        "from src.optimization import TopologyOptimizer\n",
        "from src.visualization import RCSVisualizer\n",
        "\n",
        "%matplotlib inline\n"
      ]
    }
  ],
  "metadata": {
    "kernelspec": {
      "display_name": "venv",
      "language": "python",
      "name": "python3"
    },
    "language_info": {
      "codemirror_mode": {
        "name": "ipython",
        "version": 3
      },
      "file_extension": ".py",
      "mimetype": "text/x-python",
      "name": "python",
      "nbconvert_exporter": "python",
      "pygments_lexer": "ipython3",
      "version": "3.10.12"
    }
  },
  "nbformat": 4,
  "nbformat_minor": 2
}
